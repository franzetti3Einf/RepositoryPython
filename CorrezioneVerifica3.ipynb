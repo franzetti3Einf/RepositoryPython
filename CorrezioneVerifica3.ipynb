{
  "nbformat": 4,
  "nbformat_minor": 0,
  "metadata": {
    "colab": {
      "name": "CorrezioneVerifica3.ipynb",
      "provenance": []
    },
    "kernelspec": {
      "name": "python3",
      "display_name": "Python 3"
    },
    "language_info": {
      "name": "python"
    }
  },
  "cells": [
    {
      "cell_type": "code",
      "metadata": {
        "id": "qT4P9R4nfxGO"
      },
      "source": [
        "import math \n",
        "a1, a2 = int(input(\"Inserisci la prima x: \")), int(input(\"Insersci la prima y; \"))\n",
        "a3, a4 = int(input(\"Inserisci la seconda x: \")), int(input(\"Insersci la seconda y; \"))\n",
        "\n",
        "print(math.sqrt((a3-a1)**2 + (a4-a2)**2))"
      ],
      "execution_count": null,
      "outputs": []
    },
    {
      "cell_type": "code",
      "metadata": {
        "id": "IiLOnMQqf5Vl"
      },
      "source": [
        "print(\"Inserisci 3 lati del triangolo: \")\n",
        "a = int(input())\n",
        "b = int(input())\n",
        "c = int(input())\n",
        "if a + b > c and a + c > b and b + c > a:\n",
        "\tprint(\"è un triangolo\")"
      ],
      "execution_count": null,
      "outputs": []
    },
    {
      "cell_type": "code",
      "metadata": {
        "id": "GyAoa47hf5j4",
        "colab": {
          "base_uri": "https://localhost:8080/"
        },
        "outputId": "f3db2d26-82c2-43b7-ce10-20ae0bfa2a8e"
      },
      "source": [
        "lst=[int(n) for n in input(\"inserisci numeri: \").split()]\n",
        "lst1=[]\n",
        "val = int(input(\"inerisci valore: \"))\n",
        "i=0\n",
        "while i < len(lst) and val != lst[i] :\n",
        "  lst1.append(lst[i])\n",
        "  i += 1\n",
        "print(lst)\n",
        "print(lst1)"
      ],
      "execution_count": null,
      "outputs": [
        {
          "name": "stdout",
          "output_type": "stream",
          "text": [
            "inserisci numeri: 1 2 3 4 5  5 5  55  55   \n"
          ]
        }
      ]
    },
    {
      "cell_type": "code",
      "metadata": {
        "id": "1cF_cGbXf5nl",
        "colab": {
          "base_uri": "https://localhost:8080/"
        },
        "outputId": "b1f9603e-be79-4e7a-aee3-faf784a62c97"
      },
      "source": [
        "lst = [int(n) for n in input(\"inserisci numeri: \").split()]\n",
        "numSetted = set(lst)\n",
        "print(len(lst) != len(numSetted))"
      ],
      "execution_count": null,
      "outputs": [
        {
          "output_type": "stream",
          "name": "stdout",
          "text": [
            "inserisci numeri: 3 3 4 5 5 6\n",
            "True\n"
          ]
        }
      ]
    },
    {
      "cell_type": "code",
      "metadata": {
        "id": "GrUSilQQf5rw",
        "colab": {
          "base_uri": "https://localhost:8080/"
        },
        "outputId": "3094c099-6761-4351-dbb5-059fcd0a8704"
      },
      "source": [
        "lst = [int(n) for n in input(\"inserisci numeri: \").split()]\n",
        "lst1 = []\n",
        "pos = int(input(\"inserire una posizione: \"))\n",
        "lst[:pos]= []\n",
        "print(lst)\n",
        "lst1 = lst[:pos]\n",
        "print(lst1)"
      ],
      "execution_count": null,
      "outputs": [
        {
          "output_type": "stream",
          "name": "stdout",
          "text": [
            "inserisci numeri: 1 2 3 4 5 6 7 8 9 \n",
            "inserire una posizione: 4\n",
            "[5, 6, 7, 8, 9]\n",
            "[5, 6, 7, 8]\n"
          ]
        }
      ]
    },
    {
      "cell_type": "markdown",
      "metadata": {
        "id": "pJmHNEDlf5xV"
      },
      "source": [
        "lst = [[int(n) for n in input(\"inserisci numeri: \").split()], [int(n) for n in input(\"inserisci numeri: \").split()], [int(n) for n in input(\"inserisci numeri: \").split()], [int(n) for n in input(\"inserisci numeri: \").split()]]] \n",
        "lst1 = [1, 3, 4]\n",
        "if lst1 in lst: \n",
        "\tprint(\"True\") \n",
        "else: \n",
        "\tprint(\"False\") "
      ]
    },
    {
      "cell_type": "code",
      "metadata": {
        "colab": {
          "base_uri": "https://localhost:8080/"
        },
        "id": "kjHQQVtUf53r",
        "outputId": "c3f419b0-dbcd-4979-8874-5e9521a9840a"
      },
      "source": [
        "inp = int(input(\"numero: \"))\n",
        "\n",
        "tabellina = {}\n",
        "for i in range(1, 11):\n",
        "    tabellina[i] = inp*i\n",
        "\n",
        "print(tabellina)"
      ],
      "execution_count": null,
      "outputs": [
        {
          "output_type": "stream",
          "name": "stdout",
          "text": [
            "numero: 4\n",
            "{1: 4, 2: 8, 3: 12, 4: 16, 5: 20, 6: 24, 7: 28, 8: 32, 9: 36, 10: 40}\n"
          ]
        }
      ]
    },
    {
      "cell_type": "code",
      "metadata": {
        "colab": {
          "base_uri": "https://localhost:8080/"
        },
        "id": "o_XdXgGWf59b",
        "outputId": "27195359-2f78-4a20-d705-20423c9ffe69"
      },
      "source": [
        "import collections\n",
        "sentence = input()\n",
        "words = sentence.split()\n",
        "word_counts = collections.Counter(words)\n",
        "for word, count in word_counts.items():\n",
        "    print('la parola \"%s\" compare %d volte.' % (word, count))"
      ],
      "execution_count": null,
      "outputs": [
        {
          "output_type": "stream",
          "name": "stdout",
          "text": [
            "il gatto miagola\n",
            "la parola \"il\" compare 1 volte.\n",
            "la parola \"gatto\" compare 1 volte.\n",
            "la parola \"miagola\" compare 1 volte.\n"
          ]
        }
      ]
    },
    {
      "cell_type": "code",
      "metadata": {
        "colab": {
          "base_uri": "https://localhost:8080/"
        },
        "id": "8pbx6rWrf6Qk",
        "outputId": "7a3e7127-822a-465d-b765-db32f36faf6e"
      },
      "source": [
        "dicts = [\n",
        "     { \"cognome\": \"Bianchi\", \"Voto\": 6 },\n",
        "     { \"cognome\": \"Neri\", \"Voto\": 8 },\n",
        "     { \"cognome\": \"Gialli\", \"Voto\": 3 },\n",
        "     { \"cognome\": \"Rossi\", \"Voto\": 4 },\n",
        "     { \"cognome\": \"Verdi\", \"Voto\": 10 }\n",
        " ]\n",
        "for i in dicts:\n",
        "    if i['Voto'] >= 6:\n",
        "        print(i[\"cognome\"])"
      ],
      "execution_count": null,
      "outputs": [
        {
          "output_type": "stream",
          "name": "stdout",
          "text": [
            "Bianchi\n",
            "Neri\n",
            "Verdi\n"
          ]
        }
      ]
    }
  ]
}