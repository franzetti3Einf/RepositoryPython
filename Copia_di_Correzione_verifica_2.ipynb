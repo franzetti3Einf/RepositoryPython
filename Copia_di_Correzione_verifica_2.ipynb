{
  "nbformat": 4,
  "nbformat_minor": 0,
  "metadata": {
    "colab": {
      "name": "Copia di Correzione verifica 2",
      "provenance": [],
      "collapsed_sections": []
    },
    "kernelspec": {
      "name": "python3",
      "display_name": "Python 3"
    },
    "language_info": {
      "name": "python"
    }
  },
  "cells": [
    {
      "cell_type": "markdown",
      "metadata": {
        "id": "0RxrtkXkF2yo"
      },
      "source": [
        "Scrivere un programma che carichi in una lista 10 città italiane e le visualizzi ordinandole in base alla lunghezza del nome (ordine crescente e decrescente)"
      ]
    },
    {
      "cell_type": "code",
      "metadata": {
        "id": "jachbXSHGDPI"
      },
      "source": [
        "citta = ['Roma', 'Como', 'Bari', 'Ancona', 'Milano', 'Torino', 'Varese', 'Napoli', 'Pisa', 'Trieste']\n",
        "citta_crescente = sorted(citta, key = len)\n",
        "print(citta_crescente)\n",
        "citta_decrescente = sorted(citta, key = len, reverse = True)\n",
        "print(citta_decrescente)\n",
        "citta_decrescente2 = citta_crescente[:] #copia della lista\n",
        "citta_decrescente2.reverse()\n",
        "print(citta_decrescente2)\n",
        "print(citta_crescente)"
      ],
      "execution_count": null,
      "outputs": []
    },
    {
      "cell_type": "markdown",
      "metadata": {
        "id": "ZIvNk0C8Hg5I"
      },
      "source": [
        "Scrivere un programma che carichi in una lista 10 città italiane ed elimini i doppioni (se presenti). Utilizzare il minor numero di istruzioni possibile."
      ]
    },
    {
      "cell_type": "code",
      "metadata": {
        "id": "m0KcPwdEJo1A"
      },
      "source": [
        "citta.extend(['Lecco', 'Milano', 'Milano'])\n",
        "print(citta)\n",
        "cittaFinale = list(dict.fromkeys(citta)) #costruisce un dizionaro con solo chiavi partendo da citta\n",
        "print(cittaFinale)\n",
        "cittaFinale2 = list(set(citta))\n",
        "print(cittaFinale2)"
      ],
      "execution_count": null,
      "outputs": []
    },
    {
      "cell_type": "markdown",
      "metadata": {
        "id": "nWWGuc-pMx2Q"
      },
      "source": [
        "Scrivere un programma che date due liste contenenti 10 città, visualizzi le città presenti in entrambe le liste. Utilizzare il minor numero di istruzioni possibile."
      ]
    },
    {
      "cell_type": "code",
      "metadata": {
        "id": "Q5sBe-urNHKX"
      },
      "source": [
        "citta1 = ['Roma', 'Como', 'Bari', 'Ancona', 'Milano', 'Torino', 'Varese', 'Napoli', 'Pisa', 'Trieste', 'Lecco']\n",
        "citta2 = ['Palermo', 'Como', 'Bari', 'Ancona', 'Milano', 'Lecce', 'Varese', 'Napoli', 'Pisa', 'Trieste', 'Lecco']\n",
        "cittaComuni = list(set(citta1).intersection(set(citta2)))\n",
        "print(cittaComuni)"
      ],
      "execution_count": null,
      "outputs": []
    },
    {
      "cell_type": "markdown",
      "metadata": {
        "id": "0IpZ9ym7NHfG"
      },
      "source": [
        "Scrivere un programma che carichi in un dizionario 10 città (campo chiave) e le 10 regioni in cui si trovano le città (campo valore). Visualizzare poi tutti i dati con il messaggio \"< città > si trova in < regione >\"."
      ]
    },
    {
      "cell_type": "code",
      "metadata": {
        "id": "vuyLEmODOKwA"
      },
      "source": [
        "d1 = {'Napoli': 'Campania', 'Como': 'Lombardia', 'Varese': 'Lombardia', 'Ancona': 'Marche', 'Trieste': 'Friuli Venezia Giulia', 'Pisa': 'Toscana', 'Milano': 'Lombardia', 'Bari': 'Puglia', 'Lecco': 'Lombardia'}\n",
        "for keys, values in d1.items():\n",
        "  print (keys, \"si trova in\", values)\n",
        "for keys, values in d1.items():\n",
        "  print(keys, \"si trova in\", values)"
      ],
      "execution_count": null,
      "outputs": []
    },
    {
      "cell_type": "markdown",
      "metadata": {
        "id": "FqNiO2RxO5IQ"
      },
      "source": [
        "Scrivere un programma che acquisisca il nome di una città e dica in quale regione si trova (utilizzare il dizionario creato precedentemente)."
      ]
    },
    {
      "cell_type": "code",
      "metadata": {
        "id": "ADW_3CG_T3S1"
      },
      "source": [
        "nCitta = str(input(\"Inserire il nome di una città: \"))\n",
        "print(nCitta, \"si trova in\", d1[nCitta])"
      ],
      "execution_count": null,
      "outputs": []
    },
    {
      "cell_type": "markdown",
      "metadata": {
        "id": "2e0yCQ4JT3n9"
      },
      "source": [
        "Scrivere un programma che carichi in una lista tutti i numeri pari minori di 100."
      ]
    },
    {
      "cell_type": "code",
      "metadata": {
        "id": "qB_ma9RmT-N1"
      },
      "source": [
        "# lista = []\n",
        "# for i in range(0, 101, 2):\n",
        "#   lista.append(i)\n",
        "# print(lista)\n",
        "\n",
        "lista2 = [n for n in range(0, 101, 2)] # str(n) li converte in stringhe\n",
        "print(lista2)"
      ],
      "execution_count": null,
      "outputs": []
    },
    {
      "cell_type": "markdown",
      "metadata": {
        "id": "GgrpsRe_T-if"
      },
      "source": [
        "Scrivere un programma che carichi in una lista tutti i numeri interi compresi tra due estremi inseriti dall'utente. Il programma deve poi caricare in un'altra lista tutti i multipli di tre presenti nella lista di partenza. Visualizzare al termine entrambe le liste."
      ]
    },
    {
      "cell_type": "code",
      "metadata": {
        "id": "klsr3Kz2UOgp"
      },
      "source": [
        "# primo = int(input(\"Inserire il primo valore: \"))\n",
        "# ultimo = int(input(\"Inserire l'ultimo valore: \"))\n",
        "# lista = list(range(primo, ultimo+1))\n",
        "# print(\"Lista completa: \", lista)\n",
        "# listaMultipli = []\n",
        "# for i in lista:\n",
        "#   if i % 3 == 0:\n",
        "#     listaMultipli.append(i)\n",
        "# print(\"Lista multipli di 3: \", listaMultipli)\n",
        "\n",
        "lst1 = [n1 for n1 in range(int(input(\"Inserire il primo valore: \")), int(input(\"Inserire l'ultimo valore: \"))+1)]\n",
        "print(lst1)\n",
        "lst2 = [n2 for n2 in lst1 if n2 % 3 == 0]\n",
        "print(lst2)"
      ],
      "execution_count": null,
      "outputs": []
    },
    {
      "cell_type": "markdown",
      "metadata": {
        "id": "J6RfF9eiUOv8"
      },
      "source": [
        "Scrivere un programma che permetta all'utente di caricare in una lista una sequenza di numeri che termina con 0. Al termine del caricamento, visualizzare la lista."
      ]
    },
    {
      "cell_type": "code",
      "metadata": {
        "id": "3_c1UmfBUbx3"
      },
      "source": [
        "# lista4 = []\n",
        "# while True:\n",
        "#   num = int(input(\"Inserire un valore: \"))\n",
        "#   if num == 0:\n",
        "#     break\n",
        "#   lista4.append(num)\n",
        "# print(lista4)\n",
        "\n",
        "# stringa = input(\"Inserire i valori: \")\n",
        "# print(stringa)\n",
        "# numeri = stringa.split()\n",
        "# listaFinale = [int(n) for n in numeri]\n",
        "# listaFinale.pop() # rimuove lo 0 dalla lista\n",
        "# print(listaFinale)\n",
        "listaFinale2 = list(map(int, input(\"Inserire i valori: \").split())) # map applica la funzione a tutti gli elementi della lista\n",
        "print(listaFinale2)"
      ],
      "execution_count": null,
      "outputs": []
    },
    {
      "cell_type": "markdown",
      "metadata": {
        "id": "mnVc3lv5U9tH"
      },
      "source": [
        "Scrivere una funzione lambda chiamata incrementa (x) che incrementa la x di 10 unità. Scrivere poi un programma che carichi una lista di 20 numeri casuali (compresi tra 1 e 100) e applichi la funzione agli elementi della lista appena creata. Visualizzare al termine entrambe le liste."
      ]
    },
    {
      "cell_type": "code",
      "metadata": {
        "id": "9aMrEnMIVSBY"
      },
      "source": [
        "import random\n",
        "res = [random.randrange(1, 100, 1) for i in range(20)]\n",
        "incremento = [(lambda x: x+10) (x) for x in res] #incrementa le unità di 10 con un ciclo che comprende tutta la lista\n",
        "print(res)\n",
        "print(incremento)"
      ],
      "execution_count": null,
      "outputs": []
    }
  ]
}