{
  "nbformat": 4,
  "nbformat_minor": 0,
  "metadata": {
    "colab": {
      "name": "Funzioni2.ipynb",
      "provenance": []
    },
    "kernelspec": {
      "name": "python3",
      "display_name": "Python 3"
    },
    "language_info": {
      "name": "python"
    }
  },
  "cells": [
    {
      "cell_type": "code",
      "metadata": {
        "colab": {
          "base_uri": "https://localhost:8080/"
        },
        "id": "dlkLUoyixpaC",
        "outputId": "2bd89b3d-1762-4941-ac0d-eb5dd5f30a44"
      },
      "source": [
        "def max(x,y):\n",
        "  if x > y :\n",
        "    return x\n",
        "  else:\n",
        "    return y\n",
        "n,n1,n2 = int(input()),int(input()),int(input()) \n",
        "if max(n,n1) == n:\n",
        "  print(max(n,n2))\n",
        "else:\n",
        "  print(max(n1,n2))       "
      ],
      "execution_count": null,
      "outputs": [
        {
          "output_type": "stream",
          "name": "stdout",
          "text": [
            "1\n",
            "2\n",
            "3\n",
            "3\n"
          ]
        }
      ]
    },
    {
      "cell_type": "code",
      "metadata": {
        "colab": {
          "base_uri": "https://localhost:8080/"
        },
        "id": "jUK5QPdcz1d_",
        "outputId": "01af6a05-4734-4114-cb8d-3a8a2432ad0d"
      },
      "source": [
        "def sommaLista(list):\n",
        "  return sum(list)\n",
        "lista = [int(n) for n in input().split()]  \n",
        "print(sommaLista(lista))"
      ],
      "execution_count": null,
      "outputs": [
        {
          "output_type": "stream",
          "name": "stdout",
          "text": [
            "1 2 3\n",
            "6\n"
          ]
        }
      ]
    },
    {
      "cell_type": "code",
      "metadata": {
        "colab": {
          "base_uri": "https://localhost:8080/"
        },
        "id": "I3DMwSVyz1p8",
        "outputId": "3603a9c9-6a20-44cb-93e0-97ff0693f5e3"
      },
      "source": [
        "lista,lista1,lista2 = [int(n) for n in input().split()],[int(n) for n in input().split()],[int(n) for n in input().split()]\n",
        "if max(sommaLista(lista),sommaLista(lista1)) == sommaLista(lista):\n",
        "  print(max(sommaLista(lista),sommaLista(lista2)))\n",
        "else:\n",
        "  print(max(sommaLista(lista1),sommaLista(lista2)))"
      ],
      "execution_count": null,
      "outputs": [
        {
          "output_type": "stream",
          "name": "stdout",
          "text": [
            "5 5 5\n",
            "1 1 1\n",
            "3 3 3\n",
            "15\n"
          ]
        }
      ]
    },
    {
      "cell_type": "code",
      "metadata": {
        "id": "bWD7W2lRz11T"
      },
      "source": [
        "def controlla(n, e1, e2):\n",
        "  if n > e1 and n < e2:\n",
        "    return True\n",
        "  else:\n",
        "    return False\n",
        "    \n",
        "n = int(input())\n",
        "min = int(input())\n",
        "mag = int(input())\n",
        "print(controlla(n, min, mag))"
      ],
      "execution_count": null,
      "outputs": []
    },
    {
      "cell_type": "code",
      "metadata": {
        "id": "YDkHmVWez1_w"
      },
      "source": [
        "lst1 = [int(n) for n in input().split()]\n",
        "lst2 = []\n",
        "n1 = int(input())\n",
        "n2 = int(input())\n",
        "for i in range(0, len(lst1)+1):\n",
        "  if i > n1 and i < n2:\n",
        "    lst2.append(i)\n",
        "print(lst2)"
      ],
      "execution_count": null,
      "outputs": []
    },
    {
      "cell_type": "code",
      "metadata": {
        "id": "mWV91B9Cz2Kv"
      },
      "source": [
        ""
      ],
      "execution_count": null,
      "outputs": []
    },
    {
      "cell_type": "code",
      "metadata": {
        "id": "54AfFMpAz2U8"
      },
      "source": [
        ""
      ],
      "execution_count": null,
      "outputs": []
    },
    {
      "cell_type": "code",
      "metadata": {
        "id": "zVCv9Vm-z2f_"
      },
      "source": [
        ""
      ],
      "execution_count": null,
      "outputs": []
    },
    {
      "cell_type": "code",
      "metadata": {
        "id": "zl8lvYriz2qk"
      },
      "source": [
        ""
      ],
      "execution_count": null,
      "outputs": []
    }
  ]
}