{
  "nbformat": 4,
  "nbformat_minor": 0,
  "metadata": {
    "colab": {
      "name": "Copia di raccolta.ipynb",
      "provenance": [],
      "collapsed_sections": []
    },
    "kernelspec": {
      "name": "python3",
      "display_name": "Python 3"
    },
    "language_info": {
      "name": "python"
    }
  },
  "cells": [
    {
      "cell_type": "markdown",
      "source": [
        "\n",
        "GeoPandas\n",
        "---\n",
        "\n"
      ],
      "metadata": {
        "id": "HS5BJejQL8DH"
      }
    },
    {
      "cell_type": "code",
      "execution_count": null,
      "metadata": {
        "id": "SOQXJlw-Lenb"
      },
      "outputs": [],
      "source": [
        "print(\"installazni\")\n",
        "!pip install contextily\n",
        "import contextily\n",
        "\n",
        "from shapely.geometry import Point\n",
        "\n",
        "import xyzservices.providers as xyz\n",
        "\n",
        "%matplotlib inline\n",
        "!pip install geopandas\n",
        "import pandas as pd\n",
        "import geopandas\n",
        "import matplotlib.pyplot as plt"
      ]
    },
    {
      "cell_type": "code",
      "source": [
        "print(\"montare il drive\")\n",
        "from google.colab import drive\n",
        "drive.mount('/content/drive')"
      ],
      "metadata": {
        "id": "7ZkkWRAXMA60"
      },
      "execution_count": null,
      "outputs": []
    },
    {
      "cell_type": "code",
      "source": [
        "print(\"creare GeoDataFrame\")\n",
        "GeoDataFrame=geopandas.read_file(\"link file in Drive\") #creare un Geodataframe tramite un file presente su drive"
      ],
      "metadata": {
        "id": "tRE4BFJwMGCu"
      },
      "execution_count": null,
      "outputs": []
    },
    {
      "cell_type": "code",
      "source": [
        "print(\"stampare il GeoDataFrame\")\n",
        "GeoDataFrame.plot()"
      ],
      "metadata": {
        "id": "JiXIIgY3Mc3g"
      },
      "execution_count": null,
      "outputs": []
    },
    {
      "cell_type": "code",
      "source": [
        "print(\"stapare un elemento specifico del GeoDataFrame\")\n",
        "ElemntoCercato = GeoDataFrame[GeoDataFrame.colonna == \"quello che cerco\"] #cerco l'elemento in una colonna del GeoDataFrame\n",
        "ElemntoCercato.plot() #stapo l'elemento cercato"
      ],
      "metadata": {
        "id": "SHHrW9LqMmkM"
      },
      "execution_count": null,
      "outputs": []
    },
    {
      "cell_type": "code",
      "source": [
        "print(\"trovare l'area di un GeoDataFrame\")\n",
        "GeoDataFrame.geometry.area #trovo l'area di tutti gli elemti del dataframe"
      ],
      "metadata": {
        "id": "r62uDg6-M-tu"
      },
      "execution_count": null,
      "outputs": []
    },
    {
      "cell_type": "code",
      "source": [
        "print(\"stampare i diversi GeoDataFrame\")\n",
        "ax = GeoDataFrame.plot(edgecolor='k', facecolor='none', figsize=(15, 10)) #edgecolor= colore vordi, colore dell'oggeto\n",
        "GeoDataFrame2.plot(ax=ax) # ax=ax setto gli stessi assi del primo GeoDataFrame\n",
        "GeoDataFrame3\"(GeoDataFrame di puntini)\".plot(ax=ax, color='red', markersize = 5) #color= colore dei puntini\n",
        "ax.set(xlim=(-20, 60), ylim=(-40, 40))"
      ],
      "metadata": {
        "id": "ZanINNncNSxk"
      },
      "execution_count": null,
      "outputs": []
    },
    {
      "cell_type": "code",
      "source": [
        "print(\"contestualizzare una mappa\")\n",
        "ax = GeoDataFrame.plot(figsize= (12, 6), markersize = 5) # markersize= grandezza puntini\n",
        "contextily.add_basemap(ax) #faccio in modo che si crei una mappa geografica reale della zone dell'asse \"ax\""
      ],
      "metadata": {
        "id": "CeICg2RoOht4"
      },
      "execution_count": null,
      "outputs": []
    },
    {
      "cell_type": "code",
      "source": [
        "print(\"colorare in base alla quantità\")\n",
        "ax = GeoDataFrame.plot(figsize= (12, 6), markersize = 5, column=\"nome_colonna\", legend = True) # prendo il GeoDataFrame e lo stampo, legend mette la leggenda \n",
        "contextily.add_basemap(ax)"
      ],
      "metadata": {
        "id": "bKFcpLszO0fF"
      },
      "execution_count": null,
      "outputs": []
    },
    {
      "cell_type": "code",
      "source": [
        "print(\"ordinare il GeoDataFrame\")\n",
        "GeoDataFrame.sort_values(by=[\"nome_colonna\"], ascending= False) "
      ],
      "metadata": {
        "id": "DlHgJjHWPeBT"
      },
      "execution_count": null,
      "outputs": []
    },
    {
      "cell_type": "code",
      "source": [
        "print(\"trasparenza\")\n",
        "ax = GeoDataFrame.plot(figsize= (12, 6), column=\"nome_colonna\", legend = True, alpha=0.5) # alpha= quanto è scuro il colore (più è alto più è scuro)\n",
        "contextily.add_basemap(ax)"
      ],
      "metadata": {
        "id": "W7tLo_NXP-0f"
      },
      "execution_count": null,
      "outputs": []
    },
    {
      "cell_type": "code",
      "source": [
        "print(\"cambio mappa di riferimento\")\n",
        "countries_mercator = countries.to_crs(epsg=3395) # l'epsg è il \"codice\" della mappa: ogni mappa è diversa da un'altra !ATTENZIONE! se stampate qualcosa per esempio i quartieri di Milano e i navigli \n",
        "                                                 # e 1 lo spamapa a Mialno e l'altro in Medio Oriente probabilmente strate usando 2 mappe con 2 riferimenti diversi (l'EPSG)"
      ],
      "metadata": {
        "id": "3hT7UFHGQnCB"
      },
      "execution_count": null,
      "outputs": []
    },
    {
      "cell_type": "code",
      "source": [
        "print(\"rendere un oggetto geografico un oggetto geometrico\")\n",
        "OggettoGeometrico = OggettoGeografico.geometry.squeeze()\n",
        "print('rendere un oggetto geografico non \"unito\" un oggetto geometrico')\n",
        "OggettoGeometrico = OggettoGeografico.unary_union "
      ],
      "metadata": {
        "id": "nudVD3JwRi0b"
      },
      "execution_count": null,
      "outputs": []
    },
    {
      "cell_type": "code",
      "source": [
        "print(\"creare una linea tra 2 punti geografici\")\n",
        "Linea = LineString([punto1, punto2])"
      ],
      "metadata": {
        "id": "J2dU-9A7T98S"
      },
      "execution_count": null,
      "outputs": []
    },
    {
      "cell_type": "code",
      "source": [
        "print(\"controllo se un'oggetto geometrico è contenuto in un oggeto geografico\")\n",
        "oggettoGeometrico.within(oggetoGeografico) "
      ],
      "metadata": {
        "id": "oy3298Q5UVMO"
      },
      "execution_count": null,
      "outputs": []
    },
    {
      "cell_type": "code",
      "source": [
        "print(\"controllo se un'oggetto geometrico si interseca con un oggeto geografico\")\n",
        "GeoDataFrameIntersecato = GeoDataFrame[GeoDataFrame.intersects(oggettoGeometrico)]"
      ],
      "metadata": {
        "id": "Gc76LJtRW0Jq"
      },
      "execution_count": null,
      "outputs": []
    },
    {
      "cell_type": "code",
      "source": [
        "print(\"controllo se un'oggetto geografico contiene in un oggeto geometrico\")\n",
        "oggetoGeografico.contains(oggettoGeometrico)  "
      ],
      "metadata": {
        "id": "8lkgNkAdUzO3"
      },
      "execution_count": null,
      "outputs": []
    },
    {
      "cell_type": "code",
      "source": [
        "print(\"controllo se un'oggetto geografico (GeoDataFrame) contiene in un oggeto geometrico\")\n",
        "oggetoGeografico[oggetoGeografico.contains(oggettoGeometrico)]"
      ],
      "metadata": {
        "id": "ma1G01EcVEUy"
      },
      "execution_count": null,
      "outputs": []
    },
    {
      "cell_type": "code",
      "source": [
        "print(\"creare un punto\")\n",
        "NomePunto = Point(coordianta1, coordianta2)"
      ],
      "metadata": {
        "id": "1YvcJnoNVYja"
      },
      "execution_count": null,
      "outputs": []
    },
    {
      "cell_type": "code",
      "source": [
        "print(\"distanza da un punto\")\n",
        "GeoDataFrameDistanza =  GeoDataFrame.distance(NomePunto)"
      ],
      "metadata": {
        "id": "tdX4Uvx-Vuku"
      },
      "execution_count": null,
      "outputs": []
    },
    {
      "cell_type": "code",
      "source": [
        "print(\"creare unc ercio al centro di un punto\")\n",
        "buffer = NomePunto.buffer(\"distanza\")\n",
        "print(\"creare unc ercio al centro di un GeoDataFrame\")\n",
        "buffer = GeoDataFrame[GeoDataFrame.buffer(\"distanza\")]"
      ],
      "metadata": {
        "id": "4bfanvhCWBs_"
      },
      "execution_count": null,
      "outputs": []
    },
    {
      "cell_type": "code",
      "source": [
        "print(\"tutte le informazioni sul GeoDataFrame\")\n",
        "GeoDataFrame.crs"
      ],
      "metadata": {
        "id": "DgcbZ6OFXAd_"
      },
      "execution_count": null,
      "outputs": []
    }
  ]
}