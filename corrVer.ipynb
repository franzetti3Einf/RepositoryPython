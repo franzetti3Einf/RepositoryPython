{
  "nbformat": 4,
  "nbformat_minor": 0,
  "metadata": {
    "colab": {
      "name": "corrVer.ipynb",
      "provenance": []
    },
    "kernelspec": {
      "name": "python3",
      "display_name": "Python 3"
    },
    "language_info": {
      "name": "python"
    }
  },
  "cells": [
    {
      "cell_type": "markdown",
      "metadata": {
        "id": "1ylvO3BSLN4Z"
      },
      "source": [
        "date 2 coordinate verificare la loro lunghezza"
      ]
    },
    {
      "cell_type": "code",
      "metadata": {
        "id": "KQ2sTGrGLATs"
      },
      "source": [
        "import math \n",
        "a1, a2 = int(input(\"Inserisci la prima x: \")), int(input(\"Insersci la prima y; \"))\n",
        "a3, a4 = int(input(\"Inserisci la seconda x: \")), int(input(\"Insersci la seconda y; \"))\n",
        "\n",
        "print(math.sqrt((a3-a1)**2 + (a4-a2)**2))"
      ],
      "execution_count": null,
      "outputs": []
    },
    {
      "cell_type": "markdown",
      "metadata": {
        "id": "RBK_SlnILQoM"
      },
      "source": [
        "dati 3 lati verificare se è un triangolo"
      ]
    },
    {
      "cell_type": "code",
      "metadata": {
        "id": "OS1akFo1LQuT"
      },
      "source": [
        "print(\"Inserisci 3 lati del triangolo: \")\n",
        "a = int(input())\n",
        "b = int(input())\n",
        "c = int(input())\n",
        "if a + b > c and a + c > b and b + c > a:\n",
        "\tprint(\"è un triangolo\")"
      ],
      "execution_count": null,
      "outputs": []
    },
    {
      "cell_type": "markdown",
      "metadata": {
        "id": "BzDnOVsqLq_i"
      },
      "source": [
        "Scrivere un programma che permetta all'utente di inserire una lista di numeri interi ed un valore e che carichi in un'altra lista gli elementi fino a che non incontra quel valore nella lista. Se il valore non è presente, deve caricare tutta la lista."
      ]
    },
    {
      "cell_type": "code",
      "metadata": {
        "colab": {
          "base_uri": "https://localhost:8080/"
        },
        "id": "kva3wvztLbfX",
        "outputId": "f94b6e9f-6733-4bcf-8ef7-edb621fd49c1"
      },
      "source": [
        "lst=[int(n) for n in input(\"inserisci numeri: \").split()]\n",
        "lst1=[]\n",
        "val = int(input(\"inerisci valore: \"))\n",
        "i=0\n",
        "while i < len(lst) and val != lst[i]:\n",
        "  lst1.append(lst[i])\n",
        "  i += 1\n",
        "print(lst)\n",
        "print(lst1)"
      ],
      "execution_count": null,
      "outputs": [
        {
          "output_type": "stream",
          "name": "stdout",
          "text": [
            "inserisci numeri: 1 2 3 4\n",
            "inerisci valore: 1\n",
            "[1, 2, 3, 4]\n",
            "[]\n"
          ]
        }
      ]
    },
    {
      "cell_type": "markdown",
      "metadata": {
        "id": "NlQdVyFyLsPq"
      },
      "source": [
        "Scrivere un programma che permetta all'utente di inserire una lista di numeri interi e dica se la lista contiene numeri duplicati o no."
      ]
    },
    {
      "cell_type": "code",
      "metadata": {
        "colab": {
          "base_uri": "https://localhost:8080/"
        },
        "id": "2tk7W2jKLrxr",
        "outputId": "b313254c-e0da-4528-d122-f5987a0c2e0f"
      },
      "source": [
        "lst = [int(n) for n in input(\"inserisci numeri: \").split()]\n",
        "numSetted = list(set(lst))\n",
        "print (len(lst) != len(numSetted))"
      ],
      "execution_count": null,
      "outputs": [
        {
          "output_type": "stream",
          "name": "stdout",
          "text": [
            "inserisci numeri: 1 2 3\n",
            "False\n",
            "False\n"
          ]
        }
      ]
    },
    {
      "cell_type": "markdown",
      "metadata": {
        "id": "FgdeKFAyL54g"
      },
      "source": [
        "Scrivere un programma che permetta all'utente di suddividere una lista in due parti. L'utente inserisce la lista e la posizione in cui vuole che avvenga la suddivisione. Al termine, visualizzare le due liste"
      ]
    },
    {
      "cell_type": "code",
      "metadata": {
        "colab": {
          "base_uri": "https://localhost:8080/"
        },
        "id": "XlMKXDTFL5Cm",
        "outputId": "63724ca2-6bc9-4bcf-9890-9980c87d1391"
      },
      "source": [
        "lst = [int(n) for n in input(\"inserisci numeri: \").split()]\n",
        "pos = int(input(\"inserire una posizione: \"))\n",
        "lst1=lst[pos:]\n",
        "lst2=lst[:pos]\n",
        "print(lst1)\n",
        "print(lst2)"
      ],
      "execution_count": null,
      "outputs": [
        {
          "output_type": "stream",
          "name": "stdout",
          "text": [
            "inserisci numeri: 1 2 3 4 5\n",
            "inserire una posizione: 3\n",
            "[4, 5]\n",
            "[4, 5]\n"
          ]
        }
      ]
    },
    {
      "cell_type": "markdown",
      "metadata": {
        "id": "qCMI6WObMNoh"
      },
      "source": [
        "Scrivere un programma che permetta di stabilire se una lista é contenuta in un'altra. Il programma deve visualizzare True se la prima lista contiene la seconda, False altrimenti"
      ]
    },
    {
      "cell_type": "code",
      "metadata": {
        "colab": {
          "base_uri": "https://localhost:8080/"
        },
        "id": "qlVxiTKrMNrl",
        "outputId": "5913e738-0e93-498b-d0ea-beb4493af3f2"
      },
      "source": [
        "lst1 = [[2,3,4], [1, 3, 4], [5, 1, 5], [1, 2, 4]] \n",
        "lst2 = [1, 3, 4]\n",
        "if lst2 in lst1: \n",
        "\tprint(\"True\") \n",
        "else: \n",
        "\tprint(\"False\") "
      ],
      "execution_count": null,
      "outputs": [
        {
          "output_type": "stream",
          "name": "stdout",
          "text": [
            "True\n"
          ]
        }
      ]
    },
    {
      "cell_type": "markdown",
      "metadata": {
        "id": "cpsu-w4TNPcx"
      },
      "source": [
        "Scrivere un programma che carichi in un dizionario la tabellina (da 1 a 10) di un numero inserito dall'utente. Al termine, visualizzare il dizionario."
      ]
    },
    {
      "cell_type": "code",
      "metadata": {
        "colab": {
          "base_uri": "https://localhost:8080/"
        },
        "id": "sJRQC1ZHNO8u",
        "outputId": "5218d5cb-c464-4382-9ec0-e8ea16c11d5a"
      },
      "source": [
        "inp = int(input(\"numero: \"))\n",
        "tabellina = {}\n",
        "for i in range(1, 11):\n",
        "    tabellina[str(inp) + \" * \" + str(i)] = inp*i\n",
        "print(tabellina)"
      ],
      "execution_count": null,
      "outputs": [
        {
          "output_type": "stream",
          "name": "stdout",
          "text": [
            "numero: 4\n",
            "{'4 * 1': 4, '4 * 2': 8, '4 * 3': 12, '4 * 4': 16, '4 * 5': 20, '4 * 6': 24, '4 * 7': 28, '4 * 8': 32, '4 * 9': 36, '4 * 10': 40}\n"
          ]
        }
      ]
    },
    {
      "cell_type": "markdown",
      "metadata": {
        "id": "klW0cn1XNlhh"
      },
      "source": [
        "Scrivere un pragramma che permetta all'utente di inserire una frase e che crei un dizionario avente come chiavi le parole che compongono la frase e come valore il numeo di volte che ogni parola compare. Al termine, visualizzare il messaggio la parola compare \"volte\" per ogni parola presente nel dizionario"
      ]
    },
    {
      "cell_type": "code",
      "metadata": {
        "colab": {
          "base_uri": "https://localhost:8080/"
        },
        "id": "J20goJy0NiLU",
        "outputId": "ea47b45d-fa19-4fcf-84a8-099303ed72c0"
      },
      "source": [
        "import collections\n",
        "sentence = input()\n",
        "words = sentence.split()\n",
        "word_counts = collections.Counter(words)\n",
        "for word, count in word_counts.items():\n",
        "    print('la parola ' +  str(word)+' compare ' + str(count)+ ' volte.')"
      ],
      "execution_count": null,
      "outputs": [
        {
          "output_type": "stream",
          "name": "stdout",
          "text": [
            "cioa cosja cioa\n",
            "la parola cioa compare 2 volte.\n",
            "la parola cosja compare 1 volte.\n"
          ]
        }
      ]
    },
    {
      "cell_type": "markdown",
      "metadata": {
        "id": "sQTsHtSxN0Fe"
      },
      "source": [
        "una lista contiene i voti di infomatica degli studenti di una classe: [{cognome: 'Bianchi', voto: 6}, {'Cognome': 'Neri, voto: 8}, {'cognome': 'Glalli, voto: 3}, {'cognome': 'Rossi, voto: 4}, {'cognome': Verdi', voto: 10}] Scrivere un programma che visualizzi il cognome degli studenti sufficienti."
      ]
    },
    {
      "cell_type": "code",
      "metadata": {
        "colab": {
          "base_uri": "https://localhost:8080/"
        },
        "id": "qpd6GKxMN0H8",
        "outputId": "2f1f7104-b8bf-47ce-d0fc-12ba052585ba"
      },
      "source": [
        "listofdicts = [\n",
        "     { \"cognome\": \"Bianchi\", \"Voto\": 6 },\n",
        "     { \"cognome\": \"Neri\", \"Voto\": 8 },\n",
        "     { \"cognome\": \"Gialli\", \"Voto\": 3 },\n",
        "     { \"cognome\": \"Rossi\", \"Voto\": 4 },\n",
        "     { \"cognome\": \"Verdi\", \"Voto\": 10 }\n",
        " ]\n",
        "for i in listofdicts:\n",
        "    if i['Voto'] >= 6:\n",
        "        print(i[\"cognome\"])"
      ],
      "execution_count": null,
      "outputs": [
        {
          "output_type": "stream",
          "name": "stdout",
          "text": [
            "Bianchi\n",
            "Neri\n",
            "Verdi\n"
          ]
        }
      ]
    }
  ]
}