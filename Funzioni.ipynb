{
  "nbformat": 4,
  "nbformat_minor": 0,
  "metadata": {
    "colab": {
      "name": "Funzioni.ipynb",
      "provenance": []
    },
    "kernelspec": {
      "name": "python3",
      "display_name": "Python 3"
    },
    "language_info": {
      "name": "python"
    }
  },
  "cells": [
    {
      "cell_type": "code",
      "metadata": {
        "id": "RTSRUraBfaBh",
        "colab": {
          "base_uri": "https://localhost:8080/"
        },
        "outputId": "f60551fb-78d8-4bd8-ae6f-230bf55ec49d"
      },
      "source": [
        "def media(x,y):\n",
        "  return (x + y) /2\n",
        "media2 = lambda x,y : (x + y) /2\n",
        "x,y = int(input()),int(input())\n",
        "print(media(x,y))\n",
        "print(media2(x,y))"
      ],
      "execution_count": null,
      "outputs": [
        {
          "output_type": "stream",
          "name": "stdout",
          "text": [
            "6\n",
            "8\n",
            "7.0\n",
            "7.0\n"
          ]
        }
      ]
    },
    {
      "cell_type": "code",
      "metadata": {
        "id": "Z9a7B6YUfgyr",
        "colab": {
          "base_uri": "https://localhost:8080/"
        },
        "outputId": "ce83dea6-e643-41fb-d6e3-d17d0282dcc4"
      },
      "source": [
        "def piuCorta(lista1,lista2):\n",
        "  if len(lista1) >len(lista2):\n",
        "    return lista2\n",
        "  else:\n",
        "    return lista1\n",
        "lista1 = input().split()\n",
        "lista2 = input().split()\n",
        "print(piuCorta(lista1,lista2))"
      ],
      "execution_count": null,
      "outputs": [
        {
          "output_type": "stream",
          "name": "stdout",
          "text": [
            "1 2 3 4 5 \n",
            "3 5 6 7 8 \n",
            "['1', '2', '3', '4', '5']\n"
          ]
        }
      ]
    },
    {
      "cell_type": "code",
      "metadata": {
        "id": "HN-Y9LE4fg-C"
      },
      "source": [
        "def costruisciLista(n1,n2):\n",
        "  lista1 = []\n",
        "  while(n1 < n2+1 ):\n",
        "      lista1.append(x)\n",
        "      x += 1\n",
        "  return lista1\n",
        "n1,n2 = int(input()),int(input())\n",
        "print(costruisciLista(n1,n2))"
      ],
      "execution_count": null,
      "outputs": []
    },
    {
      "cell_type": "code",
      "metadata": {
        "id": "CEPQfpJKfhKi"
      },
      "source": [
        "def valoreAssoluto(lista):\n",
        "  vA = abs(n)\n",
        "  return vA\n",
        "listaUtente = [int(n) for n in input(\"inserisci numeri: \").split()]\n",
        "listaVA = []\n",
        "for n in listaUtente:\n",
        "  listaVA.append(valoreAssoluto(n))\n",
        "print(listaVA)"
      ],
      "execution_count": null,
      "outputs": []
    },
    {
      "cell_type": "code",
      "metadata": {
        "colab": {
          "base_uri": "https://localhost:8080/"
        },
        "id": "y3nzXcmyfhWw",
        "outputId": "e56a7ea6-3b3d-49db-9979-361b720bcfb0"
      },
      "source": [
        "def scambia(lista):\n",
        "  return lista[::-1]\n",
        "lista = [int(n) for n in input(\"inserisci 10 numeri: \").split()]\n",
        "print(scambia(lista))"
      ],
      "execution_count": null,
      "outputs": [
        {
          "output_type": "stream",
          "name": "stdout",
          "text": [
            "inserisci 10 numeri: 1 2 3 4 5 6 7 8 9 10\n",
            "[10, 9, 8, 7, 6, 5, 4, 3, 2, 1]\n"
          ]
        }
      ]
    },
    {
      "cell_type": "code",
      "metadata": {
        "colab": {
          "base_uri": "https://localhost:8080/"
        },
        "id": "H2WJuqE0fhhG",
        "outputId": "8ad4ed96-7743-4cd4-f5ba-040ca5758bb2"
      },
      "source": [
        "n,n1 = int(input()),int(input())\n",
        "somma = lambda n, n1 : n + n1\n",
        "somma(n,n1)"
      ],
      "execution_count": null,
      "outputs": [
        {
          "name": "stdout",
          "output_type": "stream",
          "text": [
            "1\n",
            "2\n"
          ]
        },
        {
          "output_type": "execute_result",
          "data": {
            "text/plain": [
              "3"
            ]
          },
          "metadata": {},
          "execution_count": 6
        }
      ]
    },
    {
      "cell_type": "code",
      "metadata": {
        "id": "YLV2Xmh_fhqV"
      },
      "source": [
        "c = list(map(lambda x:x+10, L))\n",
        "print(c)"
      ],
      "execution_count": null,
      "outputs": []
    },
    {
      "cell_type": "code",
      "metadata": {
        "id": "kZ61VQE4fh0W"
      },
      "source": [
        "L = list(map(int, input().split()))\n",
        "G = list(map(lambda x: x if x>0 else 0, L))\n",
        "print(G)"
      ],
      "execution_count": null,
      "outputs": []
    },
    {
      "cell_type": "code",
      "metadata": {
        "id": "U6oHxFmbfh-v"
      },
      "source": [
        ""
      ],
      "execution_count": null,
      "outputs": []
    }
  ]
}